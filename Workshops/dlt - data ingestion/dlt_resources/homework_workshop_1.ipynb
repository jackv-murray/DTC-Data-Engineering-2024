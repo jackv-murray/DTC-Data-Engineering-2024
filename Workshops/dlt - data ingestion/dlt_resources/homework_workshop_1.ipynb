{
 "cells": [
  {
   "cell_type": "markdown",
   "metadata": {
    "id": "mrTFv5nPClXh"
   },
   "source": [
    "# **Homework**: Data talks club data engineering zoomcamp Data loading workshop\n",
    "\n",
    "Hello folks, let's practice what we learned - Loading data with the best practices of data engineering.\n",
    "\n",
    "Here are the exercises we will do\n",
    "\n",
    "\n"
   ]
  },
  {
   "cell_type": "markdown",
   "metadata": {
    "id": "wLF4iXf-NR7t"
   },
   "source": [
    "# 1. Use a generator\n",
    "\n",
    "Remember the concept of generator? Let's practice using them to futher our understanding of how they work.\n",
    "\n",
    "Let's define a generator and then run it as practice.\n",
    "\n",
    "**Answer the following questions:**\n",
    "\n",
    "- **Question 1: What is the sum of the outputs of the generator for limit = 5?**\n",
    "- **Question 2: What is the 13th number yielded**\n",
    "\n",
    "I suggest practicing these questions without GPT as the purpose is to further your learning."
   ]
  },
  {
   "cell_type": "code",
   "execution_count": 26,
   "metadata": {
    "colab": {
     "base_uri": "https://localhost:8080/"
    },
    "id": "wLng-bDJN4jf",
    "outputId": "547683cb-5f56-4815-a903-d0d9578eb1f9"
   },
   "outputs": [
    {
     "name": "stdout",
     "output_type": "stream",
     "text": [
      "8.382332347441762\n"
     ]
    }
   ],
   "source": [
    "#Question 1\n",
    "\n",
    "def square_root_generator(limit):\n",
    "    n = 1\n",
    "    while n <= limit: #after yielding the result, it'll increment n by 1 until it reaches 5\n",
    "        yield n ** 0.5 \n",
    "        n += 1\n",
    "\n",
    "\n",
    "limit = 5 # max value n can take\n",
    "generator = square_root_generator(limit)\n",
    "\n",
    "#to answer q 1 and get sum of outputs\n",
    "count = []\n",
    "\n",
    "for sqrt_value in generator:\n",
    "    count.append(sqrt_value)\n",
    "\n",
    "\n",
    "#sum\n",
    "print(sum(num for num in count))\n"
   ]
  },
  {
   "cell_type": "code",
   "execution_count": 27,
   "metadata": {},
   "outputs": [
    {
     "name": "stdout",
     "output_type": "stream",
     "text": [
      "3.605551275463989\n"
     ]
    }
   ],
   "source": [
    "#Question 2\n",
    "\n",
    "def square_root_generator(limit):\n",
    "    n = 1\n",
    "    while n <= limit: \n",
    "        yield n ** 0.5 \n",
    "        n += 1\n",
    "\n",
    "\n",
    "limit = 13 # max value n can take\n",
    "generator = square_root_generator(limit)\n",
    "\n",
    "count = []\n",
    "\n",
    "for sqrt_value in generator:\n",
    "    count.append(sqrt_value)\n",
    "\n",
    "#13 num. yielded\n",
    "print(count[12])"
   ]
  },
  {
   "cell_type": "markdown",
   "metadata": {
    "id": "xbe3q55zN43j"
   },
   "source": []
  },
  {
   "cell_type": "markdown",
   "metadata": {
    "id": "vjWhILzGJMpK"
   },
   "source": [
    "# 2. Append a generator to a table with existing data\n",
    "\n",
    "\n",
    "Below you have 2 generators. You will be tasked to load them to duckdb and answer some questions from the data\n",
    "\n",
    "1. Load the first generator and calculate the sum of ages of all people. Make sure to only load it once.\n",
    "2. Append the second generator to the same table as the first.\n",
    "3. **After correctly appending the data, calculate the sum of all ages of people.**\n",
    "\n",
    "\n"
   ]
  },
  {
   "cell_type": "code",
   "execution_count": 63,
   "metadata": {
    "colab": {
     "base_uri": "https://localhost:8080/"
    },
    "id": "2MoaQcdLBEk6",
    "outputId": "d2b93dc1-d83f-44ea-aeff-fdf51d75f7aa"
   },
   "outputs": [
    {
     "name": "stdout",
     "output_type": "stream",
     "text": [
      "{'ID': 1, 'Name': 'Person_1', 'Age': 26, 'City': 'City_A'}\n",
      "{'ID': 2, 'Name': 'Person_2', 'Age': 27, 'City': 'City_A'}\n",
      "{'ID': 3, 'Name': 'Person_3', 'Age': 28, 'City': 'City_A'}\n",
      "{'ID': 4, 'Name': 'Person_4', 'Age': 29, 'City': 'City_A'}\n",
      "{'ID': 5, 'Name': 'Person_5', 'Age': 30, 'City': 'City_A'}\n",
      "{'ID': 3, 'Name': 'Person_3', 'Age': 33, 'City': 'City_B', 'Occupation': 'Job_3'}\n",
      "{'ID': 4, 'Name': 'Person_4', 'Age': 34, 'City': 'City_B', 'Occupation': 'Job_4'}\n",
      "{'ID': 5, 'Name': 'Person_5', 'Age': 35, 'City': 'City_B', 'Occupation': 'Job_5'}\n",
      "{'ID': 6, 'Name': 'Person_6', 'Age': 36, 'City': 'City_B', 'Occupation': 'Job_6'}\n",
      "{'ID': 7, 'Name': 'Person_7', 'Age': 37, 'City': 'City_B', 'Occupation': 'Job_7'}\n",
      "{'ID': 8, 'Name': 'Person_8', 'Age': 38, 'City': 'City_B', 'Occupation': 'Job_8'}\n"
     ]
    }
   ],
   "source": [
    "def people_1():\n",
    "    for i in range(1, 6):\n",
    "        yield {\"ID\": i, \"Name\": f\"Person_{i}\", \"Age\": 25 + i, \"City\": \"City_A\"}\n",
    "\n",
    "for person in people_1():\n",
    "    print(person)\n",
    "\n",
    "\n",
    "def people_2():\n",
    "    for i in range(3, 9):\n",
    "        yield {\"ID\": i, \"Name\": f\"Person_{i}\", \"Age\": 30 + i, \"City\": \"City_B\", \"Occupation\": f\"Job_{i}\"}\n",
    "\n",
    "\n",
    "for person in people_2():\n",
    "    print(person)\n"
   ]
  },
  {
   "cell_type": "code",
   "execution_count": 54,
   "metadata": {},
   "outputs": [
    {
     "data": {
      "text/plain": [
       "LoadInfo(pipeline=<dlt.pipeline.pipeline.Pipeline object at 0x00000226606A1150>, metrics={'1707651569.663776': [{'started_at': DateTime(2024, 2, 11, 11, 39, 30, 45570, tzinfo=Timezone('UTC')), 'finished_at': DateTime(2024, 2, 11, 11, 39, 30, 278213, tzinfo=Timezone('UTC'))}]}, destination_type='dlt.destinations.duckdb', destination_displayable_credentials='duckdb:///C:\\\\Users\\\\44751\\\\Documents\\\\GitHub\\\\DTC-Data-Engineering-2024\\\\Workshops\\\\dlt - data ingestion\\\\dlt_resources\\\\dlt_ipykernel_launcher.duckdb', destination_name='duckdb', environment=None, staging_type=None, staging_name=None, staging_displayable_credentials=None, destination_fingerprint='', dataset_name='people_1_gen', loads_ids=['1707651569.663776'], load_packages=[LoadPackageInfo(load_id='1707651569.663776', package_path='C:\\\\Users\\\\44751\\\\.dlt\\\\pipelines\\\\dlt_ipykernel_launcher\\\\load\\\\loaded\\\\1707651569.663776', state='loaded', schema=Schema dlt_ipykernel_launcher at 2363850536800, schema_update={}, completed_at=DateTime(2024, 2, 11, 11, 39, 30, 264715, tzinfo=Timezone('UTC')), jobs={'started_jobs': [], 'failed_jobs': [], 'completed_jobs': [LoadJobInfo(state='completed_jobs', file_path='C:\\\\Users\\\\44751\\\\.dlt\\\\pipelines\\\\dlt_ipykernel_launcher\\\\load\\\\loaded\\\\1707651569.663776\\\\completed_jobs\\\\people_1_table.440d6f66ef.0.insert_values', file_size=292, created_at=DateTime(2024, 2, 11, 11, 39, 29, 712501, tzinfo=Timezone('UTC')), elapsed=0.5522141456604004, job_file_info=ParsedLoadJobFileName(table_name='people_1_table', file_id='440d6f66ef', retry_count=0, file_format='insert_values'), failed_message=None)], 'new_jobs': []})], first_run=False)"
      ]
     },
     "execution_count": 54,
     "metadata": {},
     "output_type": "execute_result"
    }
   ],
   "source": [
    "import dlt\n",
    "import duckdb\n",
    "\n",
    "people_1_pipeline = dlt.pipeline(destination='duckdb', dataset_name='people_1_gen')\n",
    "\n",
    "#load data\n",
    "people_1_pipeline.run(people_1(),\n",
    "                    table_name='people_1_table',\n",
    "                    write_disposition=\"replace\")"
   ]
  },
  {
   "cell_type": "code",
   "execution_count": 60,
   "metadata": {},
   "outputs": [
    {
     "name": "stdout",
     "output_type": "stream",
     "text": [
      "Loaded tables: \n"
     ]
    },
    {
     "data": {
      "text/plain": [
       "┌─────────────────────┐\n",
       "│        name         │\n",
       "│       varchar       │\n",
       "├─────────────────────┤\n",
       "│ _dlt_loads          │\n",
       "│ _dlt_pipeline_state │\n",
       "│ _dlt_version        │\n",
       "│ people_1_table      │\n",
       "└─────────────────────┘"
      ]
     },
     "metadata": {},
     "output_type": "display_data"
    },
    {
     "data": {
      "text/plain": [
       "┌─────────┐\n",
       "│ sum_age │\n",
       "│ int128  │\n",
       "├─────────┤\n",
       "│     140 │\n",
       "└─────────┘"
      ]
     },
     "metadata": {},
     "output_type": "display_data"
    }
   ],
   "source": [
    "\n",
    "conn = duckdb.connect(f\"{people_1_pipeline.pipeline_name}.duckdb\")\n",
    "conn.sql(f\"SET search_path = '{people_1_pipeline.dataset_name}'\")\n",
    "print('Loaded tables: ')\n",
    "display(conn.sql(\"show tables\"))\n",
    "\n",
    "#Load the first generator and calculate the sum of ages of all people. Make sure to only load it once.\n",
    "question_2 = conn.sql(\"SELECT sum(age) AS sum_age FROM people_1_table\")\n",
    "display(question_2)\n",
    "\n",
    "\n"
   ]
  },
  {
   "cell_type": "code",
   "execution_count": 61,
   "metadata": {},
   "outputs": [
    {
     "data": {
      "text/plain": [
       "LoadInfo(pipeline=<dlt.pipeline.pipeline.Pipeline object at 0x00000226606A1150>, metrics={'1707652579.068459': [{'started_at': DateTime(2024, 2, 11, 11, 56, 19, 467716, tzinfo=Timezone('UTC')), 'finished_at': DateTime(2024, 2, 11, 11, 56, 19, 719974, tzinfo=Timezone('UTC'))}]}, destination_type='dlt.destinations.duckdb', destination_displayable_credentials='duckdb:///C:\\\\Users\\\\44751\\\\Documents\\\\GitHub\\\\DTC-Data-Engineering-2024\\\\Workshops\\\\dlt - data ingestion\\\\dlt_resources\\\\dlt_ipykernel_launcher.duckdb', destination_name='duckdb', environment=None, staging_type=None, staging_name=None, staging_displayable_credentials=None, destination_fingerprint='', dataset_name='people_1_gen', loads_ids=['1707652579.068459'], load_packages=[LoadPackageInfo(load_id='1707652579.068459', package_path='C:\\\\Users\\\\44751\\\\.dlt\\\\pipelines\\\\dlt_ipykernel_launcher\\\\load\\\\loaded\\\\1707652579.068459', state='loaded', schema=Schema dlt_ipykernel_launcher at 2363832835504, schema_update={'people_1_table': {'name': 'people_1_table', 'columns': {'occupation': {'name': 'occupation', 'data_type': 'text', 'nullable': True}}, 'write_disposition': 'append', 'resource': 'people_1_table', 'table_format': None}}, completed_at=DateTime(2024, 2, 11, 11, 56, 19, 706608, tzinfo=Timezone('UTC')), jobs={'started_jobs': [], 'failed_jobs': [], 'completed_jobs': [LoadJobInfo(state='completed_jobs', file_path='C:\\\\Users\\\\44751\\\\.dlt\\\\pipelines\\\\dlt_ipykernel_launcher\\\\load\\\\loaded\\\\1707652579.068459\\\\completed_jobs\\\\people_1_table.3510150837.0.insert_values', file_size=335, created_at=DateTime(2024, 2, 11, 11, 56, 19, 126213, tzinfo=Timezone('UTC')), elapsed=0.5803947448730469, job_file_info=ParsedLoadJobFileName(table_name='people_1_table', file_id='3510150837', retry_count=0, file_format='insert_values'), failed_message=None)], 'new_jobs': []})], first_run=False)"
      ]
     },
     "execution_count": 61,
     "metadata": {},
     "output_type": "execute_result"
    }
   ],
   "source": [
    "#Append the second generator to the same table as the first.\n",
    "people_1_pipeline.run(people_2(),\n",
    "                    table_name='people_1_table',\n",
    "                    write_disposition=\"append\")"
   ]
  },
  {
   "cell_type": "code",
   "execution_count": 62,
   "metadata": {},
   "outputs": [
    {
     "data": {
      "text/plain": [
       "┌─────────┐\n",
       "│ sum_age │\n",
       "│ int128  │\n",
       "├─────────┤\n",
       "│     353 │\n",
       "└─────────┘"
      ]
     },
     "metadata": {},
     "output_type": "display_data"
    }
   ],
   "source": [
    "#Question 3\n",
    "question_3 = conn.sql(\"SELECT sum(age) AS sum_age FROM people_1_table\")\n",
    "display(question_3)"
   ]
  },
  {
   "cell_type": "markdown",
   "metadata": {
    "id": "vtdTIm4fvQCN"
   },
   "source": []
  },
  {
   "cell_type": "markdown",
   "metadata": {
    "id": "pY4cFAWOSwN1"
   },
   "source": [
    "# 3. Merge a generator\n",
    "\n",
    "Re-use the generators from Exercise 2.\n",
    "\n",
    "A table's primary key needs to be created from the start, so load your data to a new table with primary key ID.\n",
    "\n",
    "Load your first generator first, and then load the second one with merge. Since they have overlapping IDs, some of the records from the first load should be replaced by the ones from the second load.\n",
    "\n",
    "After loading, you should have a total of 8 records, and ID 3 should have age 33.\n",
    "\n",
    "Question: **Calculate the sum of ages of all the people loaded as described above.**\n"
   ]
  },
  {
   "cell_type": "markdown",
   "metadata": {
    "id": "kKB2GTB9oVjr"
   },
   "source": [
    "# Solution: First make sure that the following modules are installed:"
   ]
  },
  {
   "cell_type": "code",
   "execution_count": 65,
   "metadata": {},
   "outputs": [
    {
     "data": {
      "text/plain": [
       "┌─────────┐\n",
       "│ sum_age │\n",
       "│ int128  │\n",
       "├─────────┤\n",
       "│     266 │\n",
       "└─────────┘"
      ]
     },
     "metadata": {},
     "output_type": "display_data"
    }
   ],
   "source": [
    "#load table 1 again\n",
    "people_1_pipeline.run(people_1(),\n",
    "                    table_name='people_1_table',\n",
    "                    write_disposition=\"replace\")\n",
    "\n",
    "#load table 2 - with merge\n",
    "people_1_pipeline.run(people_2(),\n",
    "                    table_name='people_1_table',\n",
    "                    write_disposition=\"merge\",\n",
    "                    primary_key=\"ID\")\n",
    "\n",
    "question_4 = conn.sql(\"SELECT sum(age) AS sum_age FROM people_1_table\")\n",
    "display(question_4)"
   ]
  },
  {
   "cell_type": "markdown",
   "metadata": {
    "id": "PoTJu4kbGG0z"
   },
   "source": [
    "Questions? difficulties? We are here to help.\n",
    "- DTC data engineering course channel: https://datatalks-club.slack.com/archives/C01FABYF2RG\n",
    "- dlt's DTC cohort channel: https://dlthub-community.slack.com/archives/C06GAEX2VNX"
   ]
  }
 ],
 "metadata": {
  "colab": {
   "provenance": []
  },
  "kernelspec": {
   "display_name": "Python 3 (ipykernel)",
   "language": "python",
   "name": "python3"
  },
  "language_info": {
   "codemirror_mode": {
    "name": "ipython",
    "version": 3
   },
   "file_extension": ".py",
   "mimetype": "text/x-python",
   "name": "python",
   "nbconvert_exporter": "python",
   "pygments_lexer": "ipython3",
   "version": "3.10.9"
  }
 },
 "nbformat": 4,
 "nbformat_minor": 1
}
